{
  "nbformat": 4,
  "nbformat_minor": 0,
  "metadata": {
    "colab": {
      "provenance": []
    },
    "kernelspec": {
      "name": "python3",
      "display_name": "Python 3"
    },
    "language_info": {
      "name": "python"
    }
  },
  "cells": [
    {
      "cell_type": "code",
      "execution_count": 2,
      "metadata": {
        "colab": {
          "base_uri": "https://localhost:8080/",
          "height": 764
        },
        "id": "ylb32gslTGqh",
        "outputId": "7981d2a8-138a-4bb8-d8d0-3ccce2b9debe"
      },
      "outputs": [
        {
          "output_type": "stream",
          "name": "stdout",
          "text": [
            "Accuracy: 1.0\n",
            "digraph Tree {\n",
            "node [shape=box, style=\"filled, rounded\", color=\"black\", fontname=\"helvetica\"] ;\n",
            "edge [fontname=\"helvetica\"] ;\n",
            "0 [label=<petal width (cm) &le; 0.8<br/>gini = 0.667<br/>samples = 120<br/>value = [40, 41, 39]<br/>class = versicolor>, fillcolor=\"#fdfffd\"] ;\n",
            "1 [label=<gini = 0.0<br/>samples = 40<br/>value = [40, 0, 0]<br/>class = setosa>, fillcolor=\"#e58139\"] ;\n",
            "0 -> 1 [labeldistance=2.5, labelangle=45, headlabel=\"True\"] ;\n",
            "2 [label=<petal length (cm) &le; 4.75<br/>gini = 0.5<br/>samples = 80<br/>value = [0, 41, 39]<br/>class = versicolor>, fillcolor=\"#f5fef9\"] ;\n",
            "0 -> 2 [labeldistance=2.5, labelangle=-45, headlabel=\"False\"] ;\n",
            "3 [label=<petal width (cm) &le; 1.65<br/>gini = 0.053<br/>samples = 37<br/>value = [0, 36, 1]<br/>class = versicolor>, fillcolor=\"#3ee684\"] ;\n",
            "2 -> 3 ;\n",
            "4 [label=<gini = 0.0<br/>samples = 36<br/>value = [0, 36, 0]<br/>class = versicolor>, fillcolor=\"#39e581\"] ;\n",
            "3 -> 4 ;\n",
            "5 [label=<gini = 0.0<br/>samples = 1<br/>value = [0, 0, 1]<br/>class = virginica>, fillcolor=\"#8139e5\"] ;\n",
            "3 -> 5 ;\n",
            "6 [label=<petal width (cm) &le; 1.75<br/>gini = 0.206<br/>samples = 43<br/>value = [0, 5, 38]<br/>class = virginica>, fillcolor=\"#9253e8\"] ;\n",
            "2 -> 6 ;\n",
            "7 [label=<petal length (cm) &le; 4.95<br/>gini = 0.5<br/>samples = 8<br/>value = [0, 4, 4]<br/>class = versicolor>, fillcolor=\"#ffffff\"] ;\n",
            "6 -> 7 ;\n",
            "8 [label=<gini = 0.0<br/>samples = 2<br/>value = [0, 2, 0]<br/>class = versicolor>, fillcolor=\"#39e581\"] ;\n",
            "7 -> 8 ;\n",
            "9 [label=<petal width (cm) &le; 1.55<br/>gini = 0.444<br/>samples = 6<br/>value = [0, 2, 4]<br/>class = virginica>, fillcolor=\"#c09cf2\"] ;\n",
            "7 -> 9 ;\n",
            "10 [label=<gini = 0.0<br/>samples = 3<br/>value = [0, 0, 3]<br/>class = virginica>, fillcolor=\"#8139e5\"] ;\n",
            "9 -> 10 ;\n",
            "11 [label=<petal length (cm) &le; 5.45<br/>gini = 0.444<br/>samples = 3<br/>value = [0, 2, 1]<br/>class = versicolor>, fillcolor=\"#9cf2c0\"] ;\n",
            "9 -> 11 ;\n",
            "12 [label=<gini = 0.0<br/>samples = 2<br/>value = [0, 2, 0]<br/>class = versicolor>, fillcolor=\"#39e581\"] ;\n",
            "11 -> 12 ;\n",
            "13 [label=<gini = 0.0<br/>samples = 1<br/>value = [0, 0, 1]<br/>class = virginica>, fillcolor=\"#8139e5\"] ;\n",
            "11 -> 13 ;\n",
            "14 [label=<petal length (cm) &le; 4.85<br/>gini = 0.056<br/>samples = 35<br/>value = [0, 1, 34]<br/>class = virginica>, fillcolor=\"#853fe6\"] ;\n",
            "6 -> 14 ;\n",
            "15 [label=<sepal length (cm) &le; 5.95<br/>gini = 0.444<br/>samples = 3<br/>value = [0, 1, 2]<br/>class = virginica>, fillcolor=\"#c09cf2\"] ;\n",
            "14 -> 15 ;\n",
            "16 [label=<gini = 0.0<br/>samples = 1<br/>value = [0, 1, 0]<br/>class = versicolor>, fillcolor=\"#39e581\"] ;\n",
            "15 -> 16 ;\n",
            "17 [label=<gini = 0.0<br/>samples = 2<br/>value = [0, 0, 2]<br/>class = virginica>, fillcolor=\"#8139e5\"] ;\n",
            "15 -> 17 ;\n",
            "18 [label=<gini = 0.0<br/>samples = 32<br/>value = [0, 0, 32]<br/>class = virginica>, fillcolor=\"#8139e5\"] ;\n",
            "14 -> 18 ;\n",
            "}\n"
          ]
        },
        {
          "output_type": "execute_result",
          "data": {
            "text/plain": [
              "'iris_decision_tree.pdf'"
            ],
            "application/vnd.google.colaboratory.intrinsic+json": {
              "type": "string"
            }
          },
          "metadata": {},
          "execution_count": 2
        }
      ],
      "source": [
        "# Import necessary libraries\n",
        "from sklearn.datasets import load_iris\n",
        "from sklearn.tree import DecisionTreeClassifier\n",
        "from sklearn.model_selection import train_test_split\n",
        "from sklearn.metrics import accuracy_score\n",
        "import graphviz\n",
        "from sklearn.tree import export_graphviz\n",
        "\n",
        "# Load the iris dataset\n",
        "iris = load_iris()\n",
        "X = iris.data\n",
        "y = iris.target\n",
        "\n",
        "# Split the dataset into training and testing sets\n",
        "X_train, X_test, y_train, y_test = train_test_split(X, y, test_size=0.2, random_state=42)\n",
        "\n",
        "# Create a decision tree classifier\n",
        "clf = DecisionTreeClassifier()\n",
        "\n",
        "# Train the classifier on the training data\n",
        "clf.fit(X_train, y_train)\n",
        "\n",
        "# Make predictions on the testing data\n",
        "y_pred = clf.predict(X_test)\n",
        "\n",
        "# Calculate the accuracy of the classifier\n",
        "accuracy = accuracy_score(y_test, y_pred)\n",
        "print(\"Accuracy:\", accuracy)\n",
        "\n",
        "# Visualize the decision tree\n",
        "dot_data = export_graphviz(clf, out_file=None, feature_names=iris.feature_names,\n",
        "                           class_names=iris.target_names, filled=True, rounded=True,\n",
        "                           special_characters=True)\n",
        "print(dot_data)\n",
        "graph = graphviz.Source(dot_data)\n",
        "graph.render(\"iris_decision_tree\")"
      ]
    }
  ]
}